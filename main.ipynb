{
 "cells": [
  {
   "cell_type": "markdown",
   "source": [
    "#### Конкурентные структуры данных и алгоритмы:\n",
    "\n",
    "Допустим, у нас есть $N$ потоков, и общий на все потоки `std::vector`.\n",
    "Мы хотим параллельно в $N$ потоков взаимодействовать с `std::vector` (например добавлять в него элементы с помощью операции `push_back`).\n",
    "\n",
    "Какие проблемы при этом у нас могут возникнуть?\n",
    "\n",
    "Нам нужна синхронизация!\n",
    "> Запомним: `push_back` это не атомарная операция. Если два различных потока одновременно начнут делать эту операцию, то\n",
    "> состояние `std::vector` может стать некорректным.\n",
    "\n",
    "***Вывод: в Concurrency Programming мы в основном изучаем синхронизацию между потоками***"
   ],
   "metadata": {
    "collapsed": false,
    "pycharm": {
     "name": "#%% md\n"
    }
   }
  }
 ],
 "metadata": {
  "kernelspec": {
   "display_name": "Python 3",
   "language": "python",
   "name": "python3"
  },
  "language_info": {
   "codemirror_mode": {
    "name": "ipython",
    "version": 2
   },
   "file_extension": ".py",
   "mimetype": "text/x-python",
   "name": "python",
   "nbconvert_exporter": "python",
   "pygments_lexer": "ipython2",
   "version": "2.7.6"
  }
 },
 "nbformat": 4,
 "nbformat_minor": 0
}