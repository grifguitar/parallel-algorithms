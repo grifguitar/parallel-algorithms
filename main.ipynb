{
 "cells": [
  {
   "cell_type": "markdown",
   "source": [
    "#### Конкурентные структуры данных и алгоритмы:\n",
    "\n",
    "Допустим, у нас есть $$n$$ потоков, и общий на все потоки `std::vector`.\n",
    "Мы хотим параллельно в $$n$$ потоков взаимодействовать с `std::vector` (например добавлять в него элементы с помощью операции `push_back`).\n",
    "Какие проблемы при этом у нас могут возникнуть? Синхронизация, так как `push_back` это не атомарная операция!\n",
    "Если два различных потока одновременно начнут делать эту операцию, то состояние `std::vector` может стать некорректным.\n",
    "\n",
    "**Вывод: в Concurrency Programming мы в основном изучаем синхронизацию между потоками**."
   ],
   "metadata": {
    "collapsed": false,
    "pycharm": {
     "name": "#%% md\n"
    }
   }
  }
 ],
 "metadata": {
  "kernelspec": {
   "display_name": "Python 3",
   "language": "python",
   "name": "python3"
  },
  "language_info": {
   "codemirror_mode": {
    "name": "ipython",
    "version": 2
   },
   "file_extension": ".py",
   "mimetype": "text/x-python",
   "name": "python",
   "nbconvert_exporter": "python",
   "pygments_lexer": "ipython2",
   "version": "2.7.6"
  }
 },
 "nbformat": 4,
 "nbformat_minor": 0
}